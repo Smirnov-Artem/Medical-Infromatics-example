{
 "cells": [
  {
   "cell_type": "code",
   "execution_count": 1,
   "metadata": {},
   "outputs": [],
   "source": [
    "import os, glob"
   ]
  },
  {
   "cell_type": "code",
   "execution_count": 2,
   "metadata": {},
   "outputs": [],
   "source": [
    "class color:\n",
    "   BOLD = '\\033[1m'"
   ]
  },
  {
   "cell_type": "markdown",
   "metadata": {},
   "source": [
    "# Task 1"
   ]
  },
  {
   "cell_type": "code",
   "execution_count": 3,
   "metadata": {},
   "outputs": [],
   "source": [
    "stroki = []"
   ]
  },
  {
   "cell_type": "code",
   "execution_count": 4,
   "metadata": {},
   "outputs": [],
   "source": [
    "file1_outputs = []\n",
    "file2_outputs = []\n",
    "file3_outputs = []"
   ]
  },
  {
   "cell_type": "code",
   "execution_count": 5,
   "metadata": {},
   "outputs": [],
   "source": [
    "folder_path1 = '/Users/artemsmirnov/Desktop/Medical inform/HW2/Clinical_HL7_Samples/ELR-ExampleMessages-1.9.2-012216/Elr-ExampleMessages-1.9.2-012216'\n",
    "for filename in glob.glob(os.path.join(folder_path1, '*.txt')):\n",
    "    stroki=[]\n",
    "    with open(filename, 'r') as f:\n",
    "        data = f.read()\n",
    "        things = data.split(\"\\n\")\n",
    "        for i in range(0, len(things)):\n",
    "            stroka = things[i]\n",
    "            stroka = stroka.split(\"|\")\n",
    "            stroki.append(stroka)\n",
    "            if stroki[i][0] == 'PID':\n",
    "                for word in stroki[i]:\n",
    "                    if word == 'F':\n",
    "                        file1_outputs.append(stroki[i][stroki[i].index(word)-1])"
   ]
  },
  {
   "cell_type": "code",
   "execution_count": 6,
   "metadata": {},
   "outputs": [],
   "source": [
    "folder_path2 = '/Users/artemsmirnov/Desktop/Medical inform/HW2/Clinical_HL7_Samples/Immunization-ExampleMessages-1.9-021214'\n",
    "for filename in glob.glob(os.path.join(folder_path2, '*.txt')):\n",
    "    stroki=[]\n",
    "    with open(filename, 'r') as f:\n",
    "        data = f.read()\n",
    "        things = data.split(\"\\n\")\n",
    "        for i in range(0, len(things)):\n",
    "            stroka = things[i]\n",
    "            stroka = stroka.split(\"|\")\n",
    "            stroki.append(stroka)\n",
    "            if stroki[i][0] == 'PID':\n",
    "                for word in stroki[i]:\n",
    "                    if word == 'F':\n",
    "                        file2_outputs.append(stroki[i][stroki[i].index(word)-1])"
   ]
  },
  {
   "cell_type": "code",
   "execution_count": 7,
   "metadata": {},
   "outputs": [],
   "source": [
    "folder_path3 = '/Users/artemsmirnov/Desktop/Medical inform/HW2/Clinical_HL7_Samples/Older'\n",
    "for filename in glob.glob(os.path.join(folder_path3, '*.out')):\n",
    "    stroki=[]\n",
    "    with open(filename, 'r') as f:\n",
    "        data = f.read()\n",
    "        things = data.split(\"\\n\")\n",
    "        for i in range(0, len(things)):\n",
    "            stroka = things[i]\n",
    "            stroka = stroka.split(\"|\")\n",
    "            stroki.append(stroka)\n",
    "            if stroki[i][0] == 'PID':\n",
    "                for word in stroki[i]:\n",
    "                    if word == 'F' and len(stroki[i][stroki[i].index(word)-1]) == 8:\n",
    "                        file3_outputs.append(stroki[i][stroki[i].index(word)-1])"
   ]
  },
  {
   "cell_type": "code",
   "execution_count": 8,
   "metadata": {},
   "outputs": [],
   "source": [
    "for i in range(0, len(file1_outputs)): \n",
    "    file1_outputs[i] = int(file1_outputs[i])\n",
    "for i in range(0, len(file2_outputs)): \n",
    "    file2_outputs[i] = int(file2_outputs[i])\n",
    "for i in range(0, len(file3_outputs)): \n",
    "    file3_outputs[i] = int(file3_outputs[i])"
   ]
  },
  {
   "cell_type": "code",
   "execution_count": 9,
   "metadata": {},
   "outputs": [],
   "source": [
    "maximal_year_males = min(min(file1_outputs), min(file2_outputs), min(file3_outputs))"
   ]
  },
  {
   "cell_type": "code",
   "execution_count": 10,
   "metadata": {},
   "outputs": [],
   "source": [
    "maximal_year_males = str(maximal_year_males)"
   ]
  },
  {
   "cell_type": "markdown",
   "metadata": {},
   "source": [
    "Answer"
   ]
  },
  {
   "cell_type": "code",
   "execution_count": 11,
   "metadata": {},
   "outputs": [
    {
     "name": "stdout",
     "output_type": "stream",
     "text": [
      "The maximal year of birth among male patients is \u001b[1m1916\n"
     ]
    }
   ],
   "source": [
    "print('The maximal year of birth among male patients is ', color.BOLD, maximal_year_males[:4], sep='')"
   ]
  },
  {
   "cell_type": "markdown",
   "metadata": {},
   "source": [
    "# Task 2"
   ]
  },
  {
   "cell_type": "code",
   "execution_count": 12,
   "metadata": {},
   "outputs": [],
   "source": [
    "def hasNumbers(inputString):\n",
    "    return any(char.isdigit() for char in inputString)"
   ]
  },
  {
   "cell_type": "code",
   "execution_count": 13,
   "metadata": {},
   "outputs": [],
   "source": [
    "def onlyNumbers(inputString):\n",
    "    return all(char.isdigit() for char in inputString)"
   ]
  },
  {
   "cell_type": "code",
   "execution_count": 14,
   "metadata": {},
   "outputs": [],
   "source": [
    "def find_letter(lst):\n",
    "    if not lst:          \n",
    "        return 0\n",
    "\n",
    "    elif lst[0] == n:\n",
    "        return True\n",
    "\n",
    "    elif find_letter(lst[0:]):\n",
    "        return True\n",
    "\n",
    "    else: \n",
    "        return False"
   ]
  },
  {
   "cell_type": "code",
   "execution_count": 15,
   "metadata": {},
   "outputs": [],
   "source": [
    "n = \"@\"\n",
    "def find_mail(lst):\n",
    "\n",
    "    if not lst:          \n",
    "        return 0\n",
    "\n",
    "    elif lst[0] == n:\n",
    "        return True\n",
    "\n",
    "    elif find_letter(lst[1:]):\n",
    "        return True\n",
    "\n",
    "    else: \n",
    "        return False"
   ]
  },
  {
   "cell_type": "code",
   "execution_count": 16,
   "metadata": {},
   "outputs": [],
   "source": [
    "females = []"
   ]
  },
  {
   "cell_type": "code",
   "execution_count": 18,
   "metadata": {},
   "outputs": [],
   "source": [
    "folder_path1 = '/Users/artemsmirnov/Desktop/Medical inform/HW2/Clinical_HL7_Samples/ELR-ExampleMessages-1.9.2-012216/Elr-ExampleMessages-1.9.2-012216'\n",
    "for filename in glob.glob(os.path.join(folder_path1, '*.txt')):\n",
    "    stroki=[]\n",
    "    with open(filename, 'r') as f:\n",
    "        data = f.read()\n",
    "        things = data.split(\"\\n\")\n",
    "        for i in range(0, len(things)):\n",
    "            stroka = things[i]\n",
    "            stroka = stroka.split(\"|\")\n",
    "            stroki.append(stroka)\n",
    "            if stroki[i][0] == 'PID':\n",
    "                for word in stroki[i]:\n",
    "                    if word == 'F':\n",
    "                        for item in stroki[i]:\n",
    "                            if hasNumbers(item) == False and len(item) > 3:\n",
    "                                females.append(item)"
   ]
  },
  {
   "cell_type": "code",
   "execution_count": 19,
   "metadata": {},
   "outputs": [],
   "source": [
    "folder_path2 = '/Users/artemsmirnov/Desktop/Medical inform/HW2/Clinical_HL7_Samples/Immunization-ExampleMessages-1.9-021214'\n",
    "for filename in glob.glob(os.path.join(folder_path2, '*.txt')):\n",
    "    stroki=[]\n",
    "    with open(filename, 'r') as f:\n",
    "        data = f.read()\n",
    "        things = data.split(\"\\n\")\n",
    "        for i in range(0, len(things)):\n",
    "            stroka = things[i]\n",
    "            stroka = stroka.split(\"|\")\n",
    "            stroki.append(stroka)\n",
    "            if stroki[i][0] == 'PID':\n",
    "                for word in stroki[i]:\n",
    "                    if word == 'F':\n",
    "                        for item in stroki[i]:\n",
    "                            if hasNumbers(item) == False and len(item) > 3:\n",
    "                                females.append(item)"
   ]
  },
  {
   "cell_type": "code",
   "execution_count": 20,
   "metadata": {},
   "outputs": [],
   "source": [
    "folder_path3 = '/Users/artemsmirnov/Desktop/Medical inform/HW2/Clinical_HL7_Samples/Older'\n",
    "for filename in glob.glob(os.path.join(folder_path3, '*.out')):\n",
    "    stroki=[]\n",
    "    with open(filename, 'r') as f:\n",
    "        data = f.read()\n",
    "        things = data.split(\"\\n\")\n",
    "        for i in range(0, len(things)):\n",
    "            stroka = things[i]\n",
    "            stroka = stroka.split(\"|\")\n",
    "            stroki.append(stroka)\n",
    "            if stroki[i][0] == 'PID':\n",
    "                for word in stroki[i]:\n",
    "                    if word == 'F' and len(stroki[i][stroki[i].index(word)-1]) == 8 and onlyNumbers(stroki[i][stroki[i].index(word)-1]) == True:\n",
    "                        for item in stroki[i]:\n",
    "                            if hasNumbers(item) == False and len(item) > 3:\n",
    "                                females.append(item)"
   ]
  },
  {
   "cell_type": "code",
   "execution_count": 21,
   "metadata": {},
   "outputs": [],
   "source": [
    "w = 0\n",
    "while w < len(females):\n",
    "    for female in females:\n",
    "        females[w] = females[w].upper()\n",
    "        w += 1"
   ]
  },
  {
   "cell_type": "markdown",
   "metadata": {},
   "source": [
    "Answer"
   ]
  },
  {
   "cell_type": "code",
   "execution_count": 22,
   "metadata": {},
   "outputs": [
    {
     "name": "stdout",
     "output_type": "stream",
     "text": [
      "The total number of female patients is \u001b[1m148\n"
     ]
    }
   ],
   "source": [
    "print('The total number of female patients is ', color.BOLD, len(set(females)), sep='')"
   ]
  },
  {
   "cell_type": "markdown",
   "metadata": {},
   "source": [
    "# Task 3"
   ]
  },
  {
   "cell_type": "code",
   "execution_count": 23,
   "metadata": {},
   "outputs": [],
   "source": [
    "stroki = []"
   ]
  },
  {
   "cell_type": "code",
   "execution_count": 24,
   "metadata": {},
   "outputs": [],
   "source": [
    "file1_outputs = []\n",
    "file2_outputs = []\n",
    "file3_outputs = []"
   ]
  },
  {
   "cell_type": "code",
   "execution_count": 25,
   "metadata": {},
   "outputs": [],
   "source": [
    "folder_path1 = '/Users/artemsmirnov/Desktop/Medical inform/HW2/Clinical_HL7_Samples/ELR-ExampleMessages-1.9.2-012216/Elr-ExampleMessages-1.9.2-012216'\n",
    "for filename in glob.glob(os.path.join(folder_path1, '*.txt')):\n",
    "    stroki=[]\n",
    "    with open(filename, 'r') as f:\n",
    "        data = f.read()\n",
    "        things = data.split(\"\\n\")\n",
    "        for i in range(0, len(things)):\n",
    "            stroka = things[i]\n",
    "            stroka = stroka.split(\"|\")\n",
    "            stroki.append(stroka)\n",
    "            if stroki[i][0] == 'PID':\n",
    "                for word in stroki[i]:\n",
    "                    if word == 'F':\n",
    "                        file1_outputs.append(stroki[i][stroki[i].index(word)-1])\n",
    "                    elif word == 'M':\n",
    "                        file1_outputs.append(stroki[i][stroki[i].index(word)-1])"
   ]
  },
  {
   "cell_type": "code",
   "execution_count": 26,
   "metadata": {},
   "outputs": [],
   "source": [
    "folder_path2 = '/Users/artemsmirnov/Desktop/Medical inform/HW2/Clinical_HL7_Samples/Immunization-ExampleMessages-1.9-021214'\n",
    "for filename in glob.glob(os.path.join(folder_path2, '*.txt')):\n",
    "    stroki=[]\n",
    "    with open(filename, 'r') as f:\n",
    "        data = f.read()\n",
    "        things = data.split(\"\\n\")\n",
    "        for i in range(0, len(things)):\n",
    "            stroka = things[i]\n",
    "            stroka = stroka.split(\"|\")\n",
    "            stroki.append(stroka)\n",
    "            if stroki[i][0] == 'PID':\n",
    "                for word in stroki[i]:\n",
    "                    if word == 'F':\n",
    "                        file2_outputs.append(stroki[i][stroki[i].index(word)-1])\n",
    "                    elif word == 'M':\n",
    "                        file2_outputs.append(stroki[i][stroki[i].index(word)-1])"
   ]
  },
  {
   "cell_type": "code",
   "execution_count": 27,
   "metadata": {},
   "outputs": [],
   "source": [
    "folder_path3 = '/Users/artemsmirnov/Desktop/Medical inform/HW2/Clinical_HL7_Samples/Older'\n",
    "for filename in glob.glob(os.path.join(folder_path3, '*.out')):\n",
    "    stroki=[]\n",
    "    with open(filename, 'r') as f:\n",
    "        data = f.read()\n",
    "        things = data.split(\"\\n\")\n",
    "        for i in range(0, len(things)):\n",
    "            stroka = things[i]\n",
    "            stroka = stroka.split(\"|\")\n",
    "            stroki.append(stroka)\n",
    "            if stroki[i][0] == 'PID':\n",
    "                for word in stroki[i]:\n",
    "                    if word == 'M' and len(stroki[i][stroki[i].index(word)-1]) == 8:\n",
    "                        file3_outputs.append(stroki[i][stroki[i].index(word)-1])\n",
    "                    elif word == 'F' and len(stroki[i][stroki[i].index(word)-1]) == 8:\n",
    "                        file3_outputs.append(stroki[i][stroki[i].index(word)-1])"
   ]
  },
  {
   "cell_type": "code",
   "execution_count": 28,
   "metadata": {},
   "outputs": [],
   "source": [
    "for i in range(0, len(file1_outputs)): \n",
    "    file1_outputs[i] = int(file1_outputs[i])\n",
    "for i in range(0, len(file2_outputs)): \n",
    "    file2_outputs[i] = int(file2_outputs[i])\n",
    "for i in range(0, len(file3_outputs)): \n",
    "    file3_outputs[i] = int(file3_outputs[i])"
   ]
  },
  {
   "cell_type": "code",
   "execution_count": 29,
   "metadata": {},
   "outputs": [],
   "source": [
    "maximal_year_males_females = min(min(file1_outputs), min(file2_outputs), min(file3_outputs))"
   ]
  },
  {
   "cell_type": "code",
   "execution_count": 30,
   "metadata": {},
   "outputs": [],
   "source": [
    "maximal_year_males_females = str(maximal_year_males_females)"
   ]
  },
  {
   "cell_type": "code",
   "execution_count": 32,
   "metadata": {},
   "outputs": [
    {
     "name": "stdout",
     "output_type": "stream",
     "text": [
      "The earliest year of birth among male and female patients is \u001b[1m1916\n"
     ]
    }
   ],
   "source": [
    "print('The earliest year of birth among male and female patients is ', color.BOLD, maximal_year_males_females[:4], sep='')"
   ]
  }
 ],
 "metadata": {
  "kernelspec": {
   "display_name": "Python 3",
   "language": "python",
   "name": "python3"
  },
  "language_info": {
   "codemirror_mode": {
    "name": "ipython",
    "version": 3
   },
   "file_extension": ".py",
   "mimetype": "text/x-python",
   "name": "python",
   "nbconvert_exporter": "python",
   "pygments_lexer": "ipython3",
   "version": "3.7.4"
  }
 },
 "nbformat": 4,
 "nbformat_minor": 2
}
